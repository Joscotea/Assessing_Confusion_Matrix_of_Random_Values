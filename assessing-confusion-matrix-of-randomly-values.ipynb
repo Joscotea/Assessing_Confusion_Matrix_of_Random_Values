{
 "cells": [
  {
   "cell_type": "code",
   "execution_count": 1,
   "id": "1ff30e85",
   "metadata": {
    "execution": {
     "iopub.execute_input": "2024-02-23T10:06:55.450176Z",
     "iopub.status.busy": "2024-02-23T10:06:55.449729Z",
     "iopub.status.idle": "2024-02-23T10:06:57.134106Z",
     "shell.execute_reply": "2024-02-23T10:06:57.132804Z"
    },
    "papermill": {
     "duration": 1.692566,
     "end_time": "2024-02-23T10:06:57.137521",
     "exception": false,
     "start_time": "2024-02-23T10:06:55.444955",
     "status": "completed"
    },
    "tags": []
   },
   "outputs": [],
   "source": [
    "# Import libraries\n",
    "import matplotlib.pyplot as plt\n",
    "import numpy\n",
    "from sklearn import metrics"
   ]
  },
  {
   "cell_type": "code",
   "execution_count": 2,
   "id": "d2047c32",
   "metadata": {
    "execution": {
     "iopub.execute_input": "2024-02-23T10:06:57.144125Z",
     "iopub.status.busy": "2024-02-23T10:06:57.143539Z",
     "iopub.status.idle": "2024-02-23T10:06:57.152853Z",
     "shell.execute_reply": "2024-02-23T10:06:57.150981Z"
    },
    "papermill": {
     "duration": 0.016148,
     "end_time": "2024-02-23T10:06:57.156061",
     "exception": false,
     "start_time": "2024-02-23T10:06:57.139913",
     "status": "completed"
    },
    "tags": []
   },
   "outputs": [
    {
     "name": "stdout",
     "output_type": "stream",
     "text": [
      "[1 0 1 1 1 1 1 1 1 1 1 1 1 1 1 1 0 1 1 1 1 1 1 1 1 1 1 1 1 0 1 1 0 1 1 1 0\n",
      " 1 1 0 1 1 1 1 1 1 1 0 1 1 1 1 0 1 1 1 1 1 1 1 1 1 1 1 1 1 0 1 1 1 1 1 1 1\n",
      " 1 1 0 0 1 1 1 0 1 1 1 0 1 1 1 1 1 1 1 1 1 1 1 1 1 1]\n",
      "[1 1 1 1 1 1 1 1 1 1 0 1 0 1 1 1 1 1 1 1 1 1 1 0 1 1 1 1 1 1 1 1 1 1 1 1 1\n",
      " 1 0 1 1 0 1 1 1 1 1 1 1 1 1 1 1 1 1 1 1 1 1 1 1 1 1 1 1 1 1 1 1 1 1 1 1 1\n",
      " 1 0 1 1 1 1 1 1 1 0 1 1 1 1 1 1 1 1 1 0 1 1 1 1 1 1]\n"
     ]
    }
   ],
   "source": [
    "features = numpy.random.binomial(1, .9, size = 100)\n",
    "target = numpy.random.binomial(1, .9, size = 100)\n",
    "print(features)\n",
    "print(target)"
   ]
  }
 ],
 "metadata": {
  "kaggle": {
   "accelerator": "none",
   "dataSources": [],
   "dockerImageVersionId": 30646,
   "isGpuEnabled": false,
   "isInternetEnabled": true,
   "language": "python",
   "sourceType": "notebook"
  },
  "kernelspec": {
   "display_name": "Python 3",
   "language": "python",
   "name": "python3"
  },
  "language_info": {
   "codemirror_mode": {
    "name": "ipython",
    "version": 3
   },
   "file_extension": ".py",
   "mimetype": "text/x-python",
   "name": "python",
   "nbconvert_exporter": "python",
   "pygments_lexer": "ipython3",
   "version": "3.10.13"
  },
  "papermill": {
   "default_parameters": {},
   "duration": 5.629475,
   "end_time": "2024-02-23T10:06:57.681867",
   "environment_variables": {},
   "exception": null,
   "input_path": "__notebook__.ipynb",
   "output_path": "__notebook__.ipynb",
   "parameters": {},
   "start_time": "2024-02-23T10:06:52.052392",
   "version": "2.5.0"
  }
 },
 "nbformat": 4,
 "nbformat_minor": 5
}

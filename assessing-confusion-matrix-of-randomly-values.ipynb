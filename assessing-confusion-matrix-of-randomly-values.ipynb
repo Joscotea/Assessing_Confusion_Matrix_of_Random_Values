{
 "cells": [
  {
   "cell_type": "code",
   "execution_count": 1,
   "id": "2c53ad50",
   "metadata": {
    "execution": {
     "iopub.execute_input": "2024-02-23T10:23:55.076844Z",
     "iopub.status.busy": "2024-02-23T10:23:55.076540Z",
     "iopub.status.idle": "2024-02-23T10:23:56.365554Z",
     "shell.execute_reply": "2024-02-23T10:23:56.364359Z"
    },
    "papermill": {
     "duration": 1.295736,
     "end_time": "2024-02-23T10:23:56.367978",
     "exception": false,
     "start_time": "2024-02-23T10:23:55.072242",
     "status": "completed"
    },
    "tags": []
   },
   "outputs": [],
   "source": [
    "# Import libraries\n",
    "import matplotlib.pyplot as plt\n",
    "import numpy\n",
    "from sklearn import metrics"
   ]
  },
  {
   "cell_type": "code",
   "execution_count": 2,
   "id": "0297072a",
   "metadata": {
    "execution": {
     "iopub.execute_input": "2024-02-23T10:23:56.376297Z",
     "iopub.status.busy": "2024-02-23T10:23:56.375308Z",
     "iopub.status.idle": "2024-02-23T10:23:56.382016Z",
     "shell.execute_reply": "2024-02-23T10:23:56.381160Z"
    },
    "papermill": {
     "duration": 0.013991,
     "end_time": "2024-02-23T10:23:56.385016",
     "exception": false,
     "start_time": "2024-02-23T10:23:56.371025",
     "status": "completed"
    },
    "tags": []
   },
   "outputs": [
    {
     "name": "stdout",
     "output_type": "stream",
     "text": [
      "[1 1 1 1 0 1 1 1 0 1 1 1 1 1 1 1 1 1 1 1 1 1 0 1 0 0 1 1 1 1 1 1 1 1 1 1 1\n",
      " 1 1 1 1 1 1 1 1 1 1 1 1 0 1 1 1 1 1 0 1 1 1 1 1 1 1 1 0 1 1 1 1 1 1 0 1 1\n",
      " 1 1 1 1 1 1 1 1 1 1 1 1 1 1 1 1 1 0 1 1 1 1 1 1 1 1]\n",
      "[1 0 1 1 0 1 1 1 1 1 1 1 1 1 1 1 1 1 1 1 1 1 1 1 1 1 1 0 0 1 1 1 1 1 1 1 1\n",
      " 1 1 1 1 1 1 1 1 1 1 1 1 1 1 1 1 1 1 1 1 1 1 1 1 0 1 1 1 1 1 1 1 1 1 1 1 1\n",
      " 1 1 1 1 1 1 1 1 1 1 1 1 1 1 1 1 1 1 1 1 1 0 1 1 1 1]\n"
     ]
    }
   ],
   "source": [
    "# Generate random numbers using random.binomial\n",
    "features = numpy.random.binomial(1, .9, size = 100)\n",
    "target = numpy.random.binomial(1, .9, size = 100)\n",
    "print(features)\n",
    "print(target)"
   ]
  },
  {
   "cell_type": "code",
   "execution_count": 3,
   "id": "f36e387f",
   "metadata": {
    "execution": {
     "iopub.execute_input": "2024-02-23T10:23:56.391156Z",
     "iopub.status.busy": "2024-02-23T10:23:56.390586Z",
     "iopub.status.idle": "2024-02-23T10:23:56.399409Z",
     "shell.execute_reply": "2024-02-23T10:23:56.398448Z"
    },
    "papermill": {
     "duration": 0.013972,
     "end_time": "2024-02-23T10:23:56.401251",
     "exception": false,
     "start_time": "2024-02-23T10:23:56.387279",
     "status": "completed"
    },
    "tags": []
   },
   "outputs": [
    {
     "name": "stdout",
     "output_type": "stream",
     "text": [
      "TN=1, FP=9, FN=5, TP=85\n"
     ]
    }
   ],
   "source": [
    "# Generate confusion matrix\n",
    "cm = metrics.confusion_matrix(features, target)\n",
    "tn, fp, fn, tp = cm.ravel()\n",
    "print(\"TN={0}, FP={1}, FN={2}, TP={3}\".format(tn,fp,fn,tp))"
   ]
  },
  {
   "cell_type": "code",
   "execution_count": 4,
   "id": "130b22ac",
   "metadata": {
    "execution": {
     "iopub.execute_input": "2024-02-23T10:23:56.407630Z",
     "iopub.status.busy": "2024-02-23T10:23:56.406710Z",
     "iopub.status.idle": "2024-02-23T10:23:56.603904Z",
     "shell.execute_reply": "2024-02-23T10:23:56.602930Z"
    },
    "papermill": {
     "duration": 0.203283,
     "end_time": "2024-02-23T10:23:56.606750",
     "exception": false,
     "start_time": "2024-02-23T10:23:56.403467",
     "status": "completed"
    },
    "tags": []
   },
   "outputs": [
    {
     "data": {
      "image/png": "[encoded data removed]",
      "text/plain": [
       "<Figure size 640x480 with 2 Axes>"
      ]
     },
     "metadata": {},
     "output_type": "display_data"
    }
   ],
   "source": [
    "# Visualize confusion matrix\n",
    "cm_plot = metrics.ConfusionMatrixDisplay(confusion_matrix = cm)\n",
    "cm_plot.plot()\n",
    "plt.show()"
   ]
  },
  {
   "cell_type": "code",
   "execution_count": 5,
   "id": "c334519f",
   "metadata": {
    "execution": {
     "iopub.execute_input": "2024-02-23T10:23:56.613061Z",
     "iopub.status.busy": "2024-02-23T10:23:56.612729Z",
     "iopub.status.idle": "2024-02-23T10:23:56.617516Z",
     "shell.execute_reply": "2024-02-23T10:23:56.616714Z"
    },
    "papermill": {
     "duration": 0.010111,
     "end_time": "2024-02-23T10:23:56.619398",
     "exception": false,
     "start_time": "2024-02-23T10:23:56.609287",
     "status": "completed"
    },
    "tags": []
   },
   "outputs": [
    {
     "name": "stdout",
     "output_type": "stream",
     "text": [
      "Accuracy=0.86, Recall=0.9444444444444444, Precision=0.9042553191489362\n"
     ]
    }
   ],
   "source": [
    "# Calculate accuracy, recall and precision using components of the confusion matrix\n",
    "accuracy = (tp + tn)/(tn + fp + fn + tp)\n",
    "recall = tp / (fn + tp)\n",
    "precision = tp / (tp + fp)\n",
    "print(\"Accuracy={0}, Recall={1}, Precision={2}\".format(accuracy, recall, precision))"
   ]
  },
  {
   "cell_type": "code",
   "execution_count": 6,
   "id": "b76bf771",
   "metadata": {
    "execution": {
     "iopub.execute_input": "2024-02-23T10:23:56.625910Z",
     "iopub.status.busy": "2024-02-23T10:23:56.625118Z",
     "iopub.status.idle": "2024-02-23T10:23:56.635959Z",
     "shell.execute_reply": "2024-02-23T10:23:56.634607Z"
    },
    "papermill": {
     "duration": 0.016337,
     "end_time": "2024-02-23T10:23:56.638269",
     "exception": false,
     "start_time": "2024-02-23T10:23:56.621932",
     "status": "completed"
    },
    "tags": []
   },
   "outputs": [
    {
     "name": "stdout",
     "output_type": "stream",
     "text": [
      "Accuracy=0.86, Recall=0.9444444444444444, Precision=0.9042553191489362\n"
     ]
    }
   ],
   "source": [
    "# Calculate accuracy, recall and precision using metrics functions\n",
    "accuracy = metrics.accuracy_score(features, target)\n",
    "recall = metrics.recall_score(features, target)\n",
    "precision = metrics.precision_score(features, target)\n",
    "print(\"Accuracy={0}, Recall={1}, Precision={2}\".format(accuracy, recall, precision))"
   ]
  }
 ],
 "metadata": {
  "kaggle": {
   "accelerator": "none",
   "dataSources": [],
   "dockerImageVersionId": 30646,
   "isGpuEnabled": false,
   "isInternetEnabled": true,
   "language": "python",
   "sourceType": "notebook"
  },
  "kernelspec": {
   "display_name": "Python 3",
   "language": "python",
   "name": "python3"
  },
  "language_info": {
   "codemirror_mode": {
    "name": "ipython",
    "version": 3
   },
   "file_extension": ".py",
   "mimetype": "text/x-python",
   "name": "python",
   "nbconvert_exporter": "python",
   "pygments_lexer": "ipython3",
   "version": "3.10.13"
  },
  "papermill": {
   "default_parameters": {},
   "duration": 4.241675,
   "end_time": "2024-02-23T10:23:57.060617",
   "environment_variables": {},
   "exception": null,
   "input_path": "__notebook__.ipynb",
   "output_path": "__notebook__.ipynb",
   "parameters": {},
   "start_time": "2024-02-23T10:23:52.818942",
   "version": "2.5.0"
  }
 },
 "nbformat": 4,
 "nbformat_minor": 5
}
